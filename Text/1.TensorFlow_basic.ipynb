{
 "cells": [
  {
   "cell_type": "markdown",
   "metadata": {
    "tags": []
   },
   "source": [
    "# TensorFlow基本\n",
    "## TensorFlowとは\n",
    "- Google社が提供している、オープンソースの機械学習ライブラリ\n",
    "- ディープラーニング用の機能を実装\n",
    "- Python , C++ , Java, Goで利用可能\n",
    "- 最新バーション 2.?\n",
    "- Webブラウザで動作する、Tensorflow.js やIoTデバイス向けTensorflowLiteなどの拡張ライブラリがある。\n"
   ]
  },
  {
   "cell_type": "markdown",
   "metadata": {},
   "source": [
    "## TensorFlow2/0の特徴\n",
    "\n",
    "- 2.0で高レベルAPIがKerasに統合強化\n",
    "  - 高レベルAPIには複数の記述方法が存在したが、２．０でKerasに統合\n",
    "\n",
    "- 「Define and Run」 から「Define by Run」へ\n",
    "  - V1系では、モデルの構築(Define)、学習の実行(Run)と２ステップで行うDefine and Run方式から即計算を行う「Define by　Run」方式がデフォルトとなる。\n",
    "\n"
   ]
  },
  {
   "cell_type": "markdown",
   "metadata": {},
   "source": [
    "## Keras\n",
    "- Pythonで書かれたTensorFlow, Theanoなどの上で実行可能なニューラルネットワークライブラリ（ラッパーライブラリ）\n",
    "- Kerasの特徴\n",
    "  - 容易に素早くプロトタイプの作成が可能\n",
    "  - CNNとRNNの両方，およびこれらの2つの組み合わせをサポート\n",
    "  - CPUとGPU上でシームレスな動作\n",
    "  - TensorFlow1.4以降にも組み込まれている\n",
    "- Kerasに必要な環境\n",
    "  - TensorFlow（またはCNTK，Theano）がインポートされたPython環境\n",
    "\n",
    "- Tensorflow2.0から高レベルAPIがKerasに統合された\n",
    "\n",
    "- Kerasの実装は以下の２つがある\n",
    "  - 様々なディープラーニングライブラリに対応したKerasのオリジナル実装。Pipコマンドによるインストールが必要。\n",
    "  - TensorFlowに組み込まれている、TenspFlow用Keras。TensorFlowインストールすれば使用できる。\n",
    "\n",
    "- 本研修では、TensorFlow組込Kerasを利用する。\n",
    "\n"
   ]
  },
  {
   "cell_type": "code",
   "execution_count": 1,
   "metadata": {},
   "outputs": [
    {
     "data": {
      "text/plain": [
       "'2.7.0'"
      ]
     },
     "execution_count": 1,
     "metadata": {},
     "output_type": "execute_result"
    }
   ],
   "source": [
    "import tensorflow as tf\n",
    "tf.__version__"
   ]
  },
  {
   "cell_type": "markdown",
   "metadata": {},
   "source": [
    "## TensorFlow V２系でプログラミング手順\n",
    "\n",
    "### 加算"
   ]
  },
  {
   "cell_type": "code",
   "execution_count": 2,
   "metadata": {},
   "outputs": [
    {
     "name": "stdout",
     "output_type": "stream",
     "text": [
      "3\n"
     ]
    }
   ],
   "source": [
    "import tensorflow as tf\n",
    "\n",
    "'''\n",
    "基本\n",
    "'''\n",
    "#計算フローの定義\n",
    "## 定数の定義\n",
    "a = tf.constant(1)\n",
    "b = tf.constant(2)\n",
    "## 加算\n",
    "c = tf.add(a,b)\n",
    "\n",
    "print(c.numpy())\n"
   ]
  },
  {
   "cell_type": "code",
   "execution_count": 3,
   "metadata": {},
   "outputs": [
    {
     "data": {
      "text/plain": [
       "13.0"
      ]
     },
     "execution_count": 3,
     "metadata": {},
     "output_type": "execute_result"
    }
   ],
   "source": [
    "import tensorflow as tf\n",
    "\n",
    "c = tf.add(3.0,10.0)\n",
    "c.numpy()"
   ]
  },
  {
   "cell_type": "markdown",
   "metadata": {},
   "source": [
    "### 2次関数の最小値\n",
    "\n",
    "- 2 次関数の極小値をとる点ｘを求める  \n",
    "$$\n",
    "y = x^2 + 3x + 2\n",
    "$$\n",
    "\n",
    "- 一般的な解法。微分し接線の傾きが0となる点を求める\n",
    "$$\n",
    "\\frac{dy}{dx} = 2x + 3 \\\\\n",
    "\\\\\n",
    "2x + 3 = 0 \\\\\n",
    "\\\\\n",
    "x = -1.5\n",
    "$$\n",
    "\n",
    "- プログラムで解くために「勾配降下法」を使う  \n",
    "  - 勾配降下法のイメージ\n",
    "\n",
    "   <img src=\"fig/sgd.png\" width=\"50%\">\n"
   ]
  },
  {
   "cell_type": "code",
   "execution_count": 4,
   "metadata": {},
   "outputs": [
    {
     "name": "stdout",
     "output_type": "stream",
     "text": [
      "1.19 -2.7\n",
      "0.67159986 -2.46\n",
      "0.3398242 -2.2680001\n",
      "0.12748718 -2.1144001\n",
      "-0.00840807 -1.9915202\n",
      "-0.09538102 -1.8932161\n",
      "-0.15104389 -1.8145729\n",
      "-0.18666792 -1.7516583\n",
      "-0.20946789 -1.7013266\n",
      "-0.22405934 -1.6610613\n",
      "-0.23339796 -1.628849\n",
      "-0.23937464 -1.6030792\n",
      "-0.24319983 -1.5824634\n",
      "-0.24564815 -1.5659707\n",
      "-0.2472148 -1.5527766\n",
      "-0.24821758 -1.5422213\n",
      "-0.24885893 -1.533777\n",
      "-0.24926996 -1.5270216\n",
      "-0.24953246 -1.5216173\n",
      "-0.24970078 -1.5172938\n",
      "-0.24980879 -1.5138351\n",
      "-0.24987721 -1.5110681\n",
      "-0.2499218 -1.5088545\n",
      "-0.2499497 -1.5070837\n",
      "-0.24996805 -1.505667\n",
      "-0.24997926 -1.5045335\n",
      "-0.24998689 -1.5036268\n",
      "-0.24999142 -1.5029014\n",
      "-0.24999452 -1.5023211\n",
      "-0.24999666 -1.5018569\n",
      "-0.24999762 -1.5014856\n",
      "-0.24999881 -1.5011885\n",
      "-0.24999905 -1.5009508\n",
      "-0.24999952 -1.5007607\n",
      "-0.24999976 -1.5006086\n",
      "-0.24999976 -1.5004869\n",
      "-0.24999976 -1.5003895\n",
      "-0.24999976 -1.5003116\n",
      "-0.24999976 -1.5002493\n",
      "-0.25 -1.5001994\n",
      "-0.25000024 -1.5001595\n",
      "-0.24999976 -1.5001276\n",
      "-0.25 -1.500102\n",
      "-0.25 -1.5000817\n",
      "-0.25 -1.5000653\n",
      "-0.24999976 -1.5000522\n",
      "-0.24999976 -1.5000417\n",
      "-0.25 -1.5000334\n",
      "-0.25 -1.5000267\n",
      "-0.24999976 -1.5000213\n",
      "-0.24999976 -1.500017\n",
      "-0.25000024 -1.5000136\n",
      "-0.24999976 -1.5000108\n",
      "-0.25 -1.5000087\n",
      "-0.25000024 -1.5000069\n",
      "-0.24999976 -1.5000055\n",
      "-0.25 -1.5000044\n",
      "-0.24999976 -1.5000036\n",
      "-0.25 -1.5000029\n",
      "-0.24999976 -1.5000023\n",
      "-0.24999976 -1.5000018\n",
      "-0.25 -1.5000014\n",
      "-0.25000024 -1.5000012\n",
      "-0.25 -1.500001\n",
      "-0.24999976 -1.5000007\n",
      "-0.25 -1.5000006\n",
      "-0.25 -1.5000005\n",
      "-0.24999976 -1.5000004\n",
      "-0.25000024 -1.5000002\n",
      "-0.25000024 -1.5000002\n",
      "-0.25000024 -1.5000002\n",
      "-0.25000024 -1.5000002\n",
      "-0.25000024 -1.5000002\n",
      "-0.25000024 -1.5000002\n",
      "-0.25000024 -1.5000002\n",
      "-0.25000024 -1.5000002\n",
      "-0.25000024 -1.5000002\n",
      "-0.25000024 -1.5000002\n",
      "-0.25000024 -1.5000002\n",
      "-0.25000024 -1.5000002\n",
      "-0.25000024 -1.5000002\n",
      "-0.25000024 -1.5000002\n",
      "-0.25000024 -1.5000002\n",
      "-0.25000024 -1.5000002\n",
      "-0.25000024 -1.5000002\n",
      "-0.25000024 -1.5000002\n",
      "-0.25000024 -1.5000002\n",
      "-0.25000024 -1.5000002\n",
      "-0.25000024 -1.5000002\n",
      "-0.25000024 -1.5000002\n",
      "-0.25000024 -1.5000002\n",
      "-0.25000024 -1.5000002\n",
      "-0.25000024 -1.5000002\n",
      "-0.25000024 -1.5000002\n",
      "-0.25000024 -1.5000002\n",
      "-0.25000024 -1.5000002\n",
      "-0.25000024 -1.5000002\n",
      "-0.25000024 -1.5000002\n",
      "-0.25000024 -1.5000002\n",
      "-0.25000024 -1.5000002\n",
      "-1.5000002\n"
     ]
    }
   ],
   "source": [
    "import tensorflow as tf\n",
    "import numpy as np\n",
    "#\n",
    "#勾配降下法による、２次関数の最小値を見つける問題\n",
    "#\n",
    "\n",
    "from tensorflow.keras.optimizers import SGD\n",
    "\n",
    "# 勾配降下法\n",
    "opt = SGD(learning_rate=0.1)\n",
    "\n",
    "# 2次関数の定義\n",
    "def loss():\n",
    "    return var1 * var1 + 3 * var1 + 2\n",
    "\n",
    "var1 = tf.keras.backend.variable(-3)\n",
    "\n",
    "# 100回計算\n",
    "for i in range(100):\n",
    "    opt.minimize(loss, var_list=[var1])\n",
    "    print(loss().numpy(),var1.numpy())\n",
    "    \n",
    "print(var1.numpy())"
   ]
  },
  {
   "cell_type": "code",
   "execution_count": null,
   "metadata": {},
   "outputs": [],
   "source": []
  }
 ],
 "metadata": {
  "anaconda-cloud": {},
  "kernelspec": {
   "display_name": "Python 3 (ipykernel)",
   "language": "python",
   "name": "python3"
  },
  "language_info": {
   "codemirror_mode": {
    "name": "ipython",
    "version": 3
   },
   "file_extension": ".py",
   "mimetype": "text/x-python",
   "name": "python",
   "nbconvert_exporter": "python",
   "pygments_lexer": "ipython3",
   "version": "3.9.7"
  },
  "latex_envs": {
   "LaTeX_envs_menu_present": true,
   "bibliofile": "biblio.bib",
   "cite_by": "apalike",
   "current_citInitial": 1,
   "eqLabelWithNumbers": true,
   "eqNumInitial": 1,
   "labels_anchors": false,
   "latex_user_defs": false,
   "report_style_numbering": false,
   "user_envs_cfg": false
  },
  "toc": {
   "colors": {
    "hover_highlight": "#DAA520",
    "running_highlight": "#FF0000",
    "selected_highlight": "#FFD700"
   },
   "moveMenuLeft": true,
   "nav_menu": {
    "height": "308px",
    "width": "251px"
   },
   "navigate_menu": true,
   "number_sections": true,
   "sideBar": true,
   "threshold": 4,
   "toc_cell": false,
   "toc_section_display": "block",
   "toc_window_display": false
  }
 },
 "nbformat": 4,
 "nbformat_minor": 4
}
