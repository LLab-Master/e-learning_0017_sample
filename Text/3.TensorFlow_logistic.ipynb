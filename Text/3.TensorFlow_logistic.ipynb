{
 "cells": [
  {
   "cell_type": "markdown",
   "metadata": {
    "slideshow": {
     "slide_type": "slide"
    }
   },
   "source": [
    "# ロジスティク回帰\n",
    "\n",
    "## ロジスティック回帰とは\n",
    "\n",
    "- 活性化関数にシグモイド関数を使用した、2値分類問題。\n",
    "\n",
    "- 学習フロー\n",
    "  - 活性化関数にシグモイド関数\n",
    "  - Errorを最小化するように重み更新\n",
    "\n",
    "\n",
    "　　　　　<img src=\"fig/error.png\" width=\"50%\">"
   ]
  },
  {
   "cell_type": "markdown",
   "metadata": {
    "slideshow": {
     "slide_type": "slide"
    }
   },
   "source": [
    "## シグモイド関数\n",
    "\n",
    "　$f(X)$ を多変数関数として、シグモイド関数の定義は、\n",
    "$$\n",
    "\\sigma (f(X)) = \\frac{1}{1 + e^{-f(X)}}\n",
    "$$\n",
    "\n",
    "値が0.0〜1.0なので、この値を確率とみなすことができる。\n",
    "\n",
    "- Pythonによるシグモイド関数"
   ]
  },
  {
   "cell_type": "code",
   "execution_count": 1,
   "metadata": {
    "slideshow": {
     "slide_type": "slide"
    }
   },
   "outputs": [
    {
     "data": {
      "image/png": "[encoded data removed]",
      "text/plain": [
       "<Figure size 432x288 with 1 Axes>"
      ]
     },
     "metadata": {
      "needs_background": "light"
     },
     "output_type": "display_data"
    }
   ],
   "source": [
    "%matplotlib inline\n",
    "import matplotlib.pyplot as plt\n",
    "import numpy as np\n",
    "\n",
    "\n",
    "def sigmoid(z):\n",
    "    return 1.0 / (1.0 + np.exp(-z))\n",
    "\n",
    "z = np.arange(-7, 7, 0.1)\n",
    "phi_z = sigmoid(z)\n",
    "\n",
    "plt.plot(z, phi_z)\n",
    "plt.axvline(0.0, color='k')\n",
    "plt.ylim(-0.1, 1.1)\n",
    "\n",
    "plt.yticks([0.0, 0.5, 1.0])\n",
    "ax = plt.gca()\n",
    "ax.yaxis.grid(True)\n",
    "\n",
    "plt.tight_layout()\n",
    "plt.show()"
   ]
  },
  {
   "cell_type": "markdown",
   "metadata": {
    "slideshow": {
     "slide_type": "slide"
    }
   },
   "source": [
    "\n",
    "## ロジスティック回帰の実装\n",
    "\n",
    "### アルゴリズム\n",
    "- 総入力関数を\n",
    "$$\n",
    "f(x_1,x_2) = w_0 + w_1x_1 + w_2x_2\n",
    "$$\n",
    "\n",
    "として、このデータが正解である確率をシグモイド関数で求める。\n",
    "\n",
    "$$\n",
    "P(x_1,x_2)=\\sigma(f(x_1,x_2))\n",
    "$$\n",
    "\n",
    "- n番目のデータを正しく予測する確率を Pnとする。  \n",
    "全てのデータを正しく予測する確率Pは以下となりPの最大値を取るような重みを見つける。\n",
    "\n",
    "$$\n",
    "P=P_1P_2P_3...P_n\n",
    "$$\n",
    "\n",
    "- 計算しやすい様に対数をとった関数Eを最小化する重みを見つける。\n",
    "\n",
    "$$\n",
    "E=-\\log P\n",
    "$$\n",
    "\n",
    "- 最終的には以下の誤差関数Eが得られる。\n",
    "\n",
    "$$\n",
    "E=\\sum_{n=1}^{N} [t_n\\log P(x_{1n},x_{2n})+(1-t_n)log\\{1-P(x_{1n},x_{2n})\\}]\n",
    "$$\n",
    "\n",
    "- 誤差関数Eの極小値を求めればよい。\n",
    "- 偏微分方程式を「勾配降下法」を使い解を求める。\n",
    "\n",
    "$$\n",
    "\\frac{\\partial E}{\\partial (w_0,w_1,w_2)}=0\n",
    "$$"
   ]
  },
  {
   "cell_type": "markdown",
   "metadata": {
    "slideshow": {
     "slide_type": "slide"
    }
   },
   "source": [
    "## Kerasによる実装"
   ]
  },
  {
   "cell_type": "markdown",
   "metadata": {},
   "source": [
    "### データ準備　"
   ]
  },
  {
   "cell_type": "code",
   "execution_count": 2,
   "metadata": {},
   "outputs": [
    {
     "data": {
      "image/png": "[encoded data removed]",
      "text/plain": [
       "<Figure size 432x432 with 1 Axes>"
      ]
     },
     "metadata": {
      "needs_background": "light"
     },
     "output_type": "display_data"
    },
    {
     "data": {
      "text/html": [
       "<div>\n",
       "<style scoped>\n",
       "    .dataframe tbody tr th:only-of-type {\n",
       "        vertical-align: middle;\n",
       "    }\n",
       "\n",
       "    .dataframe tbody tr th {\n",
       "        vertical-align: top;\n",
       "    }\n",
       "\n",
       "    .dataframe thead th {\n",
       "        text-align: right;\n",
       "    }\n",
       "</style>\n",
       "<table border=\"1\" class=\"dataframe\">\n",
       "  <thead>\n",
       "    <tr style=\"text-align: right;\">\n",
       "      <th></th>\n",
       "      <th>x1</th>\n",
       "      <th>x2</th>\n",
       "      <th>t</th>\n",
       "    </tr>\n",
       "  </thead>\n",
       "  <tbody>\n",
       "    <tr>\n",
       "      <th>30</th>\n",
       "      <td>16.450200</td>\n",
       "      <td>6.265440</td>\n",
       "      <td>0</td>\n",
       "    </tr>\n",
       "    <tr>\n",
       "      <th>31</th>\n",
       "      <td>8.942052</td>\n",
       "      <td>7.980884</td>\n",
       "      <td>0</td>\n",
       "    </tr>\n",
       "    <tr>\n",
       "      <th>32</th>\n",
       "      <td>25.464995</td>\n",
       "      <td>20.352601</td>\n",
       "      <td>1</td>\n",
       "    </tr>\n",
       "    <tr>\n",
       "      <th>33</th>\n",
       "      <td>10.633718</td>\n",
       "      <td>26.321456</td>\n",
       "      <td>1</td>\n",
       "    </tr>\n",
       "    <tr>\n",
       "      <th>34</th>\n",
       "      <td>3.547441</td>\n",
       "      <td>8.265382</td>\n",
       "      <td>0</td>\n",
       "    </tr>\n",
       "  </tbody>\n",
       "</table>\n",
       "</div>"
      ],
      "text/plain": [
       "           x1         x2  t\n",
       "30  16.450200   6.265440  0\n",
       "31   8.942052   7.980884  0\n",
       "32  25.464995  20.352601  1\n",
       "33  10.633718  26.321456  1\n",
       "34   3.547441   8.265382  0"
      ]
     },
     "execution_count": 2,
     "metadata": {},
     "output_type": "execute_result"
    }
   ],
   "source": [
    "import pandas as pd\n",
    "import matplotlib.pyplot as plt\n",
    "data_set = pd.read_csv('https://www.lighthouselab.co.jp/p/anaconda/test_data1.csv',index_col=0)\n",
    "\n",
    "\n",
    "%matplotlib inline\n",
    "fig = plt.figure(figsize=(6,6))\n",
    "data0 = data_set[data_set['t']==0]\n",
    "data1 = data_set[data_set['t']==1]\n",
    "\n",
    "plt.scatter(data0.x1, data0.x2, c='r', marker='x')\n",
    "plt.scatter(data1.x1, data1.x2, c='b',marker='o')\n",
    "plt.show()\n",
    "data_set.tail()\n"
   ]
  },
  {
   "cell_type": "markdown",
   "metadata": {},
   "source": [
    "### 計算モデルの定義"
   ]
  },
  {
   "cell_type": "code",
   "execution_count": 3,
   "metadata": {},
   "outputs": [],
   "source": [
    "import tensorflow as tf\n",
    "\n",
    "model = tf.keras.models.Sequential()\n",
    "model.add( tf.keras.layers.Dense(units = 1,\n",
    "            input_shape=(2,), activation='sigmoid'))\n",
    "\n",
    "model.compile(optimizer='sgd', \n",
    "              loss='binary_crossentropy',\n",
    "              metrics=['accuracy'])"
   ]
  },
  {
   "cell_type": "markdown",
   "metadata": {},
   "source": [
    "### 計算実行"
   ]
  },
  {
   "cell_type": "code",
   "execution_count": 4,
   "metadata": {},
   "outputs": [
    {
     "data": {
      "text/plain": [
       "<keras.callbacks.History at 0x16d8e4c70>"
      ]
     },
     "execution_count": 4,
     "metadata": {},
     "output_type": "execute_result"
    }
   ],
   "source": [
    "x_train = data_set[['x1','x2']].values\n",
    "y_train = data_set[['t']].values\n",
    "\n",
    "model.fit(x_train, y_train, epochs=10000,verbose=0)\n"
   ]
  },
  {
   "cell_type": "markdown",
   "metadata": {},
   "source": [
    "### 計算された重みの表示"
   ]
  },
  {
   "cell_type": "code",
   "execution_count": 5,
   "metadata": {},
   "outputs": [
    {
     "name": "stdout",
     "output_type": "stream",
     "text": [
      "-8.238762 0.2762059 0.26141867\n"
     ]
    }
   ],
   "source": [
    "W = model.get_weights()\n",
    "w1,w2,w0 = W[0][0][0],W[0][1][0],W[1][0]\n",
    "print(w0,w1,w2)"
   ]
  },
  {
   "cell_type": "markdown",
   "metadata": {},
   "source": [
    "### 結果の可視化"
   ]
  },
  {
   "cell_type": "code",
   "execution_count": 6,
   "metadata": {},
   "outputs": [
    {
     "data": {
      "text/plain": [
       "<matplotlib.image.AxesImage at 0x16dd4fc10>"
      ]
     },
     "execution_count": 6,
     "metadata": {},
     "output_type": "execute_result"
    },
    {
     "data": {
      "image/png": "[encoded data removed]",
      "text/plain": [
       "<Figure size 432x432 with 1 Axes>"
      ]
     },
     "metadata": {
      "needs_background": "light"
     },
     "output_type": "display_data"
    }
   ],
   "source": [
    "import numpy as np\n",
    "fig = plt.figure(figsize=(6,6))\n",
    "subplot = fig.add_subplot(1,1,1)\n",
    "subplot.set_ylim([0,30])\n",
    "subplot.set_xlim([0,30])\n",
    "subplot.scatter(data0.x1, data0.x2, marker='x',c='r')\n",
    "subplot.scatter(data1.x1, data1.x2, marker='o')\n",
    "\n",
    "linex = np.linspace(0,50,10)\n",
    "#直線の計算\n",
    "liney = - (w1*linex/w2 + w0/w2)\n",
    "subplot.plot(linex, liney)\n",
    "\n",
    "field = [[(1 / (1 + np.exp(-(w0 + w1*x1 + w2*x2))))\n",
    "          for x1 in np.linspace(0,50,100)]\n",
    "         for x2 in np.linspace(0,50,100)]\n",
    "\n",
    "subplot.imshow(field, origin='lower', extent=(0,50,0,50),\n",
    "               cmap=plt.cm.Blues, alpha=0.5)"
   ]
  },
  {
   "cell_type": "code",
   "execution_count": null,
   "metadata": {},
   "outputs": [],
   "source": []
  }
 ],
 "metadata": {
  "anaconda-cloud": {},
  "celltoolbar": "スライドショー",
  "kernelspec": {
   "display_name": "Python 3 (ipykernel)",
   "language": "python",
   "name": "python3"
  },
  "language_info": {
   "codemirror_mode": {
    "name": "ipython",
    "version": 3
   },
   "file_extension": ".py",
   "mimetype": "text/x-python",
   "name": "python",
   "nbconvert_exporter": "python",
   "pygments_lexer": "ipython3",
   "version": "3.9.7"
  },
  "latex_envs": {
   "LaTeX_envs_menu_present": true,
   "bibliofile": "biblio.bib",
   "cite_by": "apalike",
   "current_citInitial": 1,
   "eqLabelWithNumbers": true,
   "eqNumInitial": 1,
   "labels_anchors": false,
   "latex_user_defs": false,
   "report_style_numbering": false,
   "user_envs_cfg": false
  },
  "toc": {
   "colors": {
    "hover_highlight": "#DAA520",
    "running_highlight": "#FF0000",
    "selected_highlight": "#FFD700"
   },
   "moveMenuLeft": true,
   "nav_menu": {
    "height": "308px",
    "width": "251px"
   },
   "navigate_menu": true,
   "number_sections": true,
   "sideBar": true,
   "threshold": 4,
   "toc_cell": false,
   "toc_section_display": "block",
   "toc_window_display": false
  }
 },
 "nbformat": 4,
 "nbformat_minor": 4
}
