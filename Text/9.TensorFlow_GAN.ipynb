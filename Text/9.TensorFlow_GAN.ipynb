{
 "cells": [
  {
   "cell_type": "markdown",
   "id": "e063fc1d-2f6b-4d06-b208-d1d7745dc68b",
   "metadata": {},
   "source": [
    "# GAN"
   ]
  },
  {
   "cell_type": "markdown",
   "id": "2e2d0e36-a375-4cae-b88e-b1724eae2c9e",
   "metadata": {
    "slideshow": {
     "slide_type": "slide"
    },
    "tags": []
   },
   "source": [
    "## GANとは\n",
    "\n",
    "　Generative adversarial networks(敵対的生成ネットワーク)の略です。\n",
    "\n",
    "現実には存在しない画像などを生成するために使用されます。\n",
    "\n",
    "　GANはGenerator(生成ネットワーク)とDiscriminator(識別ネットワーク)の2つのネットワークから構成されます。\n",
    "\n",
    "例えば画像生成を考えると、\n",
    "\n",
    "- Generator は新たな画像を生成するためのネットワーク、\n",
    "- Discriminaorは与えられた画層がGeneratorによって生成された画像か現実の画像かを識別するネットワーク\n",
    "\n",
    "になります。\n",
    "\n",
    "それぞれ、\n",
    "- GeneratorはDiscriminatorに見破られないような画像を生成するように\n",
    "- DiscriminatorはGeneratorが生成した画像を見破るように\n",
    "\n",
    "学習を進めていきます。\n",
    "\n",
    "学習が進むにつれ、Generatorが生成する画像はと現実の画像と見分けが困難なものになっていきます。\n"
   ]
  },
  {
   "cell_type": "markdown",
   "id": "715909fc",
   "metadata": {},
   "source": [
    "## GANの構造\n",
    "\n",
    "Discriminator、Generator はそれぞれ個々にニューラルネットワークを構成します。\n",
    "\n",
    "- Generatorはランダムな数値群(画像の種)を入力とし、画層を出力します。\n",
    "- Discriminator は画像を入力とし、「本物」か「偽物」かの2値を出力します。\n",
    "\n",
    "    <img src=\"fig/gan1.png\" width=\"40%\" alt=\"gan1\">\n",
    "\n",
    "学習時は、\n",
    "\n",
    "- Discriminator の学習では、「偽物」ラベルを付けたGenerator の出力画像と「本物」ラベルを付けた現実の画像を混ぜて入力し、教師付き学習を行います。\n",
    "\n",
    "    <img src=\"fig/gan2.png\" width=\"50%\" alt=\"gan2\">\n",
    "\n",
    "- Generator の学習では、Generator の出力が Discriminatorの入力となっているような学習用のネットワークを使用します。その上でDiscirminator の出力が全て「本物」になるようGeneratorの最適化を行います。\n",
    "\n",
    "    <img src=\"fig/gan3.png\" width=\"50%\" alt=\"gan3\">\n",
    "\n",
    "- Discriminator の学習と Generator の学習を交互に繰り返し行います\n"
   ]
  },
  {
   "cell_type": "markdown",
   "id": "cab4b8be",
   "metadata": {},
   "source": [
    "## 実装\n",
    "\n",
    "MNIST を「本物」データとして、GAN を使って「偽物」の手書き画像を作成してみます。\n",
    "\n",
    "一般に GAN は処理時間が大きくなるので、今回はMNISTから何文字かだけ取り出すことにします。"
   ]
  },
  {
   "cell_type": "code",
   "execution_count": 1,
   "id": "840522f4",
   "metadata": {},
   "outputs": [],
   "source": [
    "import numpy as np\n",
    "from tensorflow.keras.layers import Dense, Dropout, BatchNormalization\n",
    "from tensorflow.keras.models import Sequential\n",
    "from tensorflow.keras.datasets import mnist, fashion_mnist\n",
    "\n",
    "%matplotlib inline\n",
    "import matplotlib.pyplot as plt"
   ]
  },
  {
   "cell_type": "code",
   "execution_count": 2,
   "id": "34214b1f-83ab-4d83-9e64-b140e83cd79e",
   "metadata": {},
   "outputs": [],
   "source": [
    "# 画像サイズ\n",
    "img_size = 28*28"
   ]
  },
  {
   "cell_type": "markdown",
   "id": "3eaf700b",
   "metadata": {},
   "source": [
    "### 使用する関数群の定義"
   ]
  },
  {
   "cell_type": "code",
   "execution_count": 14,
   "id": "0780c185",
   "metadata": {},
   "outputs": [],
   "source": [
    "# ランダムデータ作成(Generatorの種)\n",
    "def make_random_data(n):\n",
    "    return np.random.normal(size=(n, img_size)).astype('float32')\n",
    "\n",
    "# 描画用\n",
    "## データは値 0.0〜1.0 の img_size 個のリストを想定\n",
    "def disp_fig3(fig, n=1):\n",
    "    plt.figure(figsize=(10,20))\n",
    "    for i in range(n):\n",
    "        ax = plt.subplot(1,5,i+1)\n",
    "        ax.imshow(fig[i].reshape(28, 28) * 255, cmap='gray')\n",
    "        ax.get_xaxis().set_visible(False)\n",
    "        ax.get_yaxis().set_visible(False)\n",
    "    plt.show()\n",
    "\n",
    "# mnist から指定された数字だけ読み出す\n",
    "def read_mnist():\n",
    "    (x_train, y_train), (x_test, y_test) = mnist.load_data()\n",
    "\n",
    "    # 9 だけ取り出し\n",
    "    train_data = x_train[(y_train == 9)].reshape(-1, img_size) / 255\n",
    "    test_data = x_test[(y_test == 9)].reshape(-1, img_size) / 255\n",
    "   \n",
    "    # trainとtest をまとめる\n",
    "    return np.vstack([train_data, test_data])\n",
    "\n",
    "# Generator で 5個だけイメージを作り、表示\n",
    "def disp_sample(generator, discriminator):\n",
    "    n = 5\n",
    "    gen_images = generator.generate_image(n)\n",
    "    disp_fig3(gen_images, n)"
   ]
  },
  {
   "cell_type": "markdown",
   "id": "0c281bee",
   "metadata": {},
   "source": [
    "### Generatorクラス"
   ]
  },
  {
   "cell_type": "code",
   "execution_count": 38,
   "id": "56a1a7ad-21e7-409b-9c5b-3b142f372c27",
   "metadata": {},
   "outputs": [],
   "source": [
    "# Generator\n",
    "class Generator:\n",
    "    def __init__(self):\n",
    "        units1 = 128\n",
    "        units2 = 128\n",
    "\n",
    "        model = Sequential()\n",
    "        model.add(Dense(input_shape=(img_size,), units=units1, activation='tanh'))\n",
    "        model.add(Dense(units=units2, activation='tanh'))\n",
    "        model.add(Dense(units=img_size, activation='sigmoid'))\n",
    "    \n",
    "        # model.summary()\n",
    "        self.model = model\n",
    "    \n",
    "    # イメージ作成\n",
    "    def generate_image(self, n):\n",
    "        random_data = make_random_data(n)\n",
    "        return self.model.predict(random_data)\n",
    "\n",
    "    # Discriminator学習用のデータ作成\n",
    "    def get_discriminator_training_data(self, true_image):\n",
    "        # Generator に真データと同数の偽データを作らせる\n",
    "        false_image = self.generate_image(len(true_image))\n",
    "        image = np.vstack([true_image, false_image])\n",
    "\n",
    "        # 正解ラベル作成\n",
    "        # label:  0->false,  1->true\n",
    "        label = np.hstack([np.ones(len(true_image)), np.zeros(len(false_image))])\n",
    "\n",
    "        # データとラベルをくっつける\n",
    "        data = list(zip(image, label))\n",
    "        # シャッフル\n",
    "        np.random.shuffle(data)\n",
    "        # データとラベルを分離\n",
    "        image, label = zip(*data)\n",
    "        return np.array(image), np.array(label)\n"
   ]
  },
  {
   "cell_type": "markdown",
   "id": "39281dc3",
   "metadata": {},
   "source": [
    "### Discriminatorクラス"
   ]
  },
  {
   "cell_type": "code",
   "execution_count": 36,
   "id": "e332ea6f-e24f-4452-b281-cbf1c559de17",
   "metadata": {},
   "outputs": [],
   "source": [
    "# Discriminator\n",
    "class Discriminator:\n",
    "    def __init__(self):\n",
    "        units1 = 256\n",
    "        units2 = 128\n",
    "        model = Sequential()\n",
    "        model.add(Dense(input_shape=(img_size,), units=units1, activation='tanh'))\n",
    "        model.add(Dropout(0.2))\n",
    "        model.add(Dense(units=units2, activation='tanh'))\n",
    "        model.add(Dropout(0.2))\n",
    "        model.add(Dense(units=1, activation=\"sigmoid\"))\n",
    "\n",
    "        # model.summary()\n",
    "        self.model = model\n",
    "    \n",
    "    # 学習\n",
    "    def train(self, generator, x_train, verbose=False):\n",
    "        # 学習用データ\n",
    "        ## 半分だけ Generator が作ったデータ\n",
    "        x_disc_train, y_disc_train = generator.get_discriminator_training_data(x_train)\n",
    "\n",
    "        # Discriminator を学習可能に\n",
    "        self.model.trainable = True\n",
    "        # trainable 変更後に complie\n",
    "        self.model.compile(\n",
    "            optimizer='adam', \n",
    "            loss='binary_crossentropy',\n",
    "            metrics=['accuracy'])\n",
    "        \n",
    "        # 学習\n",
    "        hist1 = self.model.fit(\n",
    "            x_disc_train,\n",
    "            y_disc_train,\n",
    "            epochs=1,\n",
    "            batch_size=128,\n",
    "            verbose=verbose,\n",
    "        )\n",
    "        return hist1\n",
    "\n",
    "    # 判定\n",
    "    def predict(self, x):\n",
    "        return self.model.predict(x)\n",
    "        "
   ]
  },
  {
   "cell_type": "markdown",
   "id": "d530a6f2",
   "metadata": {},
   "source": [
    "### Generator学習用のモデル"
   ]
  },
  {
   "cell_type": "code",
   "execution_count": 37,
   "id": "d1b7aec7-3d67-42ea-898d-eb0b7a240b78",
   "metadata": {},
   "outputs": [],
   "source": [
    "# Genarator 学習器\n",
    "#   Generator と Discriminator を直列につなぐ\n",
    "class Generator_trainer:\n",
    "    gene_train_data_size = 10000\n",
    "    ## 学習時のラベルはALL 1(本物)。Discriminator にすべて本物だと予測させたい\n",
    "    y_gene_train = np.ones(gene_train_data_size)\n",
    " \n",
    "    def __init__(self, generator, discriminator):\n",
    "        self.generator = generator\n",
    "        self.discriminator = discriminator\n",
    "\n",
    "        model = Sequential()\n",
    "        model.add(self.generator.model)\n",
    "        model.add(self.discriminator.model)\n",
    "    \n",
    "        self.model = model\n",
    "    \n",
    "    # 学習\n",
    "    def train(self, verbose=False):\n",
    "       # 学習用データ\n",
    "        ## 入力はランダムなデータ\n",
    "        x_gene_train = make_random_data(self.gene_train_data_size)\n",
    "\n",
    "       # Discriminator は学習しないように\n",
    "        self.discriminator.model.trainable = False\n",
    "        # trainable 変更後に complie\n",
    "        self.model.compile(\n",
    "            optimizer='adam', \n",
    "            loss='binary_crossentropy',\n",
    "            metrics=['accuracy'])\n",
    "\n",
    "        # 学習\n",
    "        hist2 = self.model.fit(\n",
    "            x_gene_train,\n",
    "            self.y_gene_train,\n",
    "            epochs=1,\n",
    "            batch_size=128,\n",
    "            verbose=verbose,\n",
    "        )\n",
    "        return hist2\n",
    "        "
   ]
  },
  {
   "cell_type": "markdown",
   "id": "9dcf0131",
   "metadata": {},
   "source": [
    "### メインルーチン"
   ]
  },
  {
   "cell_type": "code",
   "execution_count": 39,
   "id": "eae87f0f-0d7a-4f6f-8e95-42b49837f55c",
   "metadata": {},
   "outputs": [],
   "source": [
    "#### メインルーチン\n",
    "\n",
    "# 各変数準備\n",
    "x_train = read_mnist()   # MNIST から 数字を取り出す\n",
    "\n",
    "generator = Generator()\n",
    "discriminator = Discriminator()\n",
    "gene_trainer = Generator_trainer(generator, discriminator)\n"
   ]
  },
  {
   "cell_type": "code",
   "execution_count": 40,
   "id": "679fcfc1",
   "metadata": {},
   "outputs": [
    {
     "name": "stdout",
     "output_type": "stream",
     "text": [
      "Epoch: 0 "
     ]
    },
    {
     "data": {
      "image/png": "[encoded data removed]",
      "text/plain": [
       "<Figure size 720x1440 with 5 Axes>"
      ]
     },
     "metadata": {
      "needs_background": "light"
     },
     "output_type": "display_data"
    },
    {
     "name": "stdout",
     "output_type": "stream",
     "text": [
      "Epoch: 1 Epoch: 2 Epoch: 3 Epoch: 4 Epoch: 5 Epoch: 6 Epoch: 7 Epoch: 8 Epoch: 9 Epoch: 10 "
     ]
    },
    {
     "data": {
      "image/png": "[encoded data removed]",
      "text/plain": [
       "<Figure size 720x1440 with 5 Axes>"
      ]
     },
     "metadata": {
      "needs_background": "light"
     },
     "output_type": "display_data"
    },
    {
     "name": "stdout",
     "output_type": "stream",
     "text": [
      "Epoch: 11 Epoch: 12 Epoch: 13 Epoch: 14 Epoch: 15 Epoch: 16 Epoch: 17 Epoch: 18 Epoch: 19 Epoch: 20 "
     ]
    },
    {
     "data": {
      "image/png": "[encoded data removed]",
      "text/plain": [
       "<Figure size 720x1440 with 5 Axes>"
      ]
     },
     "metadata": {
      "needs_background": "light"
     },
     "output_type": "display_data"
    },
    {
     "name": "stdout",
     "output_type": "stream",
     "text": [
      "Epoch: 21 Epoch: 22 Epoch: 23 Epoch: 24 Epoch: 25 Epoch: 26 Epoch: 27 Epoch: 28 Epoch: 29 Epoch: 30 "
     ]
    },
    {
     "data": {
      "image/png": "[encoded data removed]",
      "text/plain": [
       "<Figure size 720x1440 with 5 Axes>"
      ]
     },
     "metadata": {
      "needs_background": "light"
     },
     "output_type": "display_data"
    },
    {
     "name": "stdout",
     "output_type": "stream",
     "text": [
      "Epoch: 31 Epoch: 32 Epoch: 33 Epoch: 34 Epoch: 35 Epoch: 36 Epoch: 37 Epoch: 38 Epoch: 39 Epoch: 40 "
     ]
    },
    {
     "data": {
      "image/png": "[encoded data removed]",
      "text/plain": [
       "<Figure size 720x1440 with 5 Axes>"
      ]
     },
     "metadata": {
      "needs_background": "light"
     },
     "output_type": "display_data"
    },
    {
     "name": "stdout",
     "output_type": "stream",
     "text": [
      "Epoch: 41 Epoch: 42 Epoch: 43 Epoch: 44 Epoch: 45 Epoch: 46 Epoch: 47 Epoch: 48 Epoch: 49 Epoch: 50 "
     ]
    },
    {
     "data": {
      "image/png": "[encoded data removed]",
      "text/plain": [
       "<Figure size 720x1440 with 5 Axes>"
      ]
     },
     "metadata": {
      "needs_background": "light"
     },
     "output_type": "display_data"
    },
    {
     "name": "stdout",
     "output_type": "stream",
     "text": [
      "Epoch: 51 Epoch: 52 Epoch: 53 Epoch: 54 Epoch: 55 Epoch: 56 Epoch: 57 Epoch: 58 Epoch: 59 Epoch: 60 "
     ]
    },
    {
     "data": {
      "image/png": "[encoded data removed]",
      "text/plain": [
       "<Figure size 720x1440 with 5 Axes>"
      ]
     },
     "metadata": {
      "needs_background": "light"
     },
     "output_type": "display_data"
    },
    {
     "name": "stdout",
     "output_type": "stream",
     "text": [
      "Epoch: 61 Epoch: 62 Epoch: 63 Epoch: 64 Epoch: 65 Epoch: 66 Epoch: 67 Epoch: 68 Epoch: 69 Epoch: 70 "
     ]
    },
    {
     "data": {
      "image/png": "[encoded data removed]",
      "text/plain": [
       "<Figure size 720x1440 with 5 Axes>"
      ]
     },
     "metadata": {
      "needs_background": "light"
     },
     "output_type": "display_data"
    },
    {
     "name": "stdout",
     "output_type": "stream",
     "text": [
      "Epoch: 71 Epoch: 72 Epoch: 73 Epoch: 74 Epoch: 75 Epoch: 76 Epoch: 77 Epoch: 78 Epoch: 79 Epoch: 80 "
     ]
    },
    {
     "data": {
      "image/png": "[encoded data removed]",
      "text/plain": [
       "<Figure size 720x1440 with 5 Axes>"
      ]
     },
     "metadata": {
      "needs_background": "light"
     },
     "output_type": "display_data"
    },
    {
     "name": "stdout",
     "output_type": "stream",
     "text": [
      "Epoch: 81 Epoch: 82 Epoch: 83 Epoch: 84 Epoch: 85 Epoch: 86 Epoch: 87 Epoch: 88 Epoch: 89 Epoch: 90 "
     ]
    },
    {
     "data": {
      "image/png": "[encoded data removed]",
      "text/plain": [
       "<Figure size 720x1440 with 5 Axes>"
      ]
     },
     "metadata": {
      "needs_background": "light"
     },
     "output_type": "display_data"
    },
    {
     "name": "stdout",
     "output_type": "stream",
     "text": [
      "Epoch: 91 Epoch: 92 Epoch: 93 Epoch: 94 Epoch: 95 Epoch: 96 Epoch: 97 Epoch: 98 Epoch: 99 "
     ]
    },
    {
     "data": {
      "image/png": "[encoded data removed]",
      "text/plain": [
       "<Figure size 720x1440 with 5 Axes>"
      ]
     },
     "metadata": {
      "needs_background": "light"
     },
     "output_type": "display_data"
    }
   ],
   "source": [
    "# 学習\n",
    "for i in range(100):\n",
    "    print(\"Epoch:\", i, end=' ')\n",
    "    # Discriminator 学習\n",
    "    discriminator.train(generator, x_train)\n",
    "    # Generator 学習\n",
    "    gene_trainer.train()\n",
    "\n",
    "    # 画像を作って表示させてみる\n",
    "    if i % 10 == 0:\n",
    "        disp_sample(generator, discriminator)\n",
    "# 最後に表示\n",
    "disp_sample(generator, discriminator)"
   ]
  },
  {
   "cell_type": "markdown",
   "id": "63b6e95a",
   "metadata": {},
   "source": [
    "#### モデルの保存"
   ]
  },
  {
   "cell_type": "code",
   "execution_count": null,
   "id": "499c672f",
   "metadata": {},
   "outputs": [],
   "source": [
    "gene_trainer.model.save('gene_trainer.h5')\n",
    "discriminator.model.save('discriminator.h5')\n",
    "generator.model.save('generator.h5')"
   ]
  }
 ],
 "metadata": {
  "kernelspec": {
   "display_name": "Python 3.9.12 ('py3.9')",
   "language": "python",
   "name": "python3"
  },
  "language_info": {
   "codemirror_mode": {
    "name": "ipython",
    "version": 3
   },
   "file_extension": ".py",
   "mimetype": "text/x-python",
   "name": "python",
   "nbconvert_exporter": "python",
   "pygments_lexer": "ipython3",
   "version": "3.9.12"
  },
  "vscode": {
   "interpreter": {
    "hash": "a11ed55f7b970296d635ebe63e6fde2301be6254f902f31dbdda195d20319d54"
   }
  }
 },
 "nbformat": 4,
 "nbformat_minor": 5
}
