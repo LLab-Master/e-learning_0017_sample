{
 "cells": [
  {
   "cell_type": "markdown",
   "metadata": {},
   "source": [
    "# パーセプトロン\n",
    "\n",
    "## パーセプトロンとは\n",
    "- 「教師あり」学習のアルゴリズム\n",
    "  - 教師あり学習\n",
    "    - パーセプトロン\n",
    "    - ニューラルネットワーク\n",
    "\n",
    "## ニューラルネットワーク\n",
    "- 脳の神経細胞(ニューロン）の機能を模した数理モデルのこと\n",
    "- 1943年にウォーレン・マカロックとウォルターピッツが発表した形式ニューロンが始まりである。\n",
    "\n",
    "### ニューロンの仕組み\n",
    "1. 樹状突起で他ニューロンからの情報を受け取る\n",
    "2. 細胞体の電位が上昇\n",
    "3. 電位がある閾値を超えるとシナプスからパルス信号を送出(発火)\n",
    "\n",
    "　　　　　<img src=\"fig/neuron.png\" width=\"30%\">\n",
    "\n",
    "## パーセプトロンの仕組み\n",
    "\n",
    "　　　　　<img src=\"fig/perceptron.png\" width=\"50%\">\n",
    "\n",
    "- y が1以上だとニューロンが発火し1を出力する。\n",
    "- w1, w2は各入力の重要度を示す*重み*、w0は発火のしやすさを調整する*バイアス*と呼ばれる\n"
   ]
  },
  {
   "cell_type": "markdown",
   "metadata": {},
   "source": [
    "## パーセプトロンによるAND演算\n",
    "\n",
    "- AND演算を行うパーセプトロンを実装してみる。\n",
    "\n",
    "|入力||出力|\n",
    "|:--:|:--:|:--:|\n",
    "|x1|x2|y|\n",
    "|0|0|0|\n",
    "|0|1|0|\n",
    "|1|0|0|\n",
    "|1|1|1|\n",
    "\n",
    "\n",
    "- w0 = 0.3 , w1 = 0.5 , w2 = 0.5 とする\n"
   ]
  },
  {
   "cell_type": "code",
   "execution_count": 1,
   "metadata": {},
   "outputs": [
    {
     "name": "stdout",
     "output_type": "stream",
     "text": [
      "and_gate(0,0) = 0\n",
      "and_gate(0,1) = 0\n",
      "and_gate(1,0) = 0\n",
      "and_gate(1,1) = 1\n"
     ]
    }
   ],
   "source": [
    "# パーセプトロンによるAND演算の例\n",
    "def and_gate(x1,x2):\n",
    "    w0,w1,w2 = 0.3,0.5,0.5\n",
    "    y = w0 + w1*x1 + w2*x2\n",
    "    \n",
    "    if y >= 1.0:\n",
    "        return 1\n",
    "    else:\n",
    "        return 0\n",
    "    \n",
    "print('and_gate(0,0) = {0}'.format(and_gate(0,0)))\n",
    "print('and_gate(0,1) = {0}'.format(and_gate(0,1)))\n",
    "print('and_gate(1,0) = {0}'.format(and_gate(1,0)))\n",
    "print('and_gate(1,1) = {0}'.format(and_gate(1,1)))\n"
   ]
  },
  {
   "cell_type": "markdown",
   "metadata": {},
   "source": [
    "## パーセプトロンによるOR演算\n",
    "\n",
    "- OR演算を行うパーセプトロンを実装してみる。\n",
    "\n",
    "|入力||出力|\n",
    "|:--:|:--:|:--:|\n",
    "|x1|x2|y|\n",
    "|0|0|0|\n",
    "|0|1|1|\n",
    "|1|0|1|\n",
    "|1|1|1|\n",
    "\n",
    "\n",
    "- w0 = 0.7 , w1 = 0.5 , w2 = 0.5 とする"
   ]
  },
  {
   "cell_type": "code",
   "execution_count": 2,
   "metadata": {},
   "outputs": [
    {
     "name": "stdout",
     "output_type": "stream",
     "text": [
      "or_gate(0,0) = 0\n",
      "or_gate(0,1) = 1\n",
      "or_gate(1,0) = 1\n",
      "or_gate(1,1) = 1\n"
     ]
    }
   ],
   "source": [
    "# Sample2\n",
    "def or_gate(x1,x2):\n",
    "    w0,w1,w2 = 0.7,0.5,0.5\n",
    "    y = w0 + w1*x1 + w2*x2\n",
    "    \n",
    "    if y >= 1.0:\n",
    "        return 1\n",
    "    else:\n",
    "        return 0\n",
    "    \n",
    "print('or_gate(0,0) = {0}'.format(or_gate(0,0)))\n",
    "print('or_gate(0,1) = {0}'.format(or_gate(0,1)))\n",
    "print('or_gate(1,0) = {0}'.format(or_gate(1,0)))\n",
    "print('or_gate(1,1) = {0}'.format(or_gate(1,1)))"
   ]
  },
  {
   "cell_type": "markdown",
   "metadata": {},
   "source": [
    "### AND/ORの可視化"
   ]
  },
  {
   "cell_type": "code",
   "execution_count": 3,
   "metadata": {},
   "outputs": [
    {
     "data": {
      "text/plain": [
       "<function matplotlib.pyplot.show(close=None, block=None)>"
      ]
     },
     "execution_count": 3,
     "metadata": {},
     "output_type": "execute_result"
    },
    {
     "data": {
      "image/png": "[encoded data removed]",
      "text/plain": [
       "<Figure size 432x288 with 1 Axes>"
      ]
     },
     "metadata": {
      "needs_background": "light"
     },
     "output_type": "display_data"
    }
   ],
   "source": [
    "# AND 演算のパーセプトロンの演算結果を可視化するプログラム\n",
    "#  w0 + w1 * x1 + w2*x2 = 0 となる直線を描画\n",
    "%matplotlib inline\n",
    "import matplotlib.pyplot as plt\n",
    "import numpy as np\n",
    "\n",
    "w0,w1,w2 = 0.3,0.5,0.5\n",
    "plt.xlim(-0.5,1.5)\n",
    "plt.ylim(-0.5,1.5)\n",
    "plt.xlabel('x1')\n",
    "plt.ylabel('x2')\n",
    "plt.yticks([0.0,1.0])\n",
    "plt.xticks([0.0,1.0])\n",
    "\n",
    "x1 = np.array([ x/10.0 for x in range(-5,16) ])\n",
    "x2 = 1.0/w2-(w0/w2 + w1/w2*x1 )\n",
    "\n",
    "plt.plot(x1,x2)\n",
    "plt.grid()\n",
    "plt.scatter([0,0,1],[0,1,0],c='r',marker='x')\n",
    "plt.scatter([1],[1])\n",
    "plt.show"
   ]
  },
  {
   "cell_type": "code",
   "execution_count": 4,
   "metadata": {},
   "outputs": [
    {
     "data": {
      "image/png": "[encoded data removed]",
      "text/plain": [
       "<Figure size 432x288 with 1 Axes>"
      ]
     },
     "metadata": {
      "needs_background": "light"
     },
     "output_type": "display_data"
    }
   ],
   "source": [
    "import matplotlib.pyplot as plt\n",
    "import numpy as np\n",
    "\n",
    "w0,w1,w2 = 0.7,0.5,0.5\n",
    "plt.xlim(-0.5,1.5)\n",
    "plt.ylim(-0.5,1.5)\n",
    "plt.xlabel('x1')\n",
    "plt.ylabel('x2')\n",
    "plt.yticks([0.0,1.0])\n",
    "plt.xticks([0.0,1.0])\n",
    "\n",
    "x1 = np.array([ x/10.0 for x in range(-5,16) ])\n",
    "x2 = 1.0/w2-(w0/w2 + w1/w2*x1 )\n",
    "\n",
    "plt.plot(x1,x2)\n",
    "plt.grid()\n",
    "plt.scatter([0],[0],c='r',marker='x')\n",
    "plt.scatter([0,1,1],[1,0,1])\n",
    " \n",
    "plt.show()"
   ]
  },
  {
   "cell_type": "markdown",
   "metadata": {
    "tags": []
   },
   "source": [
    "## パーセプトロンでの機械学習\n",
    "\n",
    "　与えられたデータから、重みを機械学習により見つけ出す。\n",
    "\n",
    "　　　　<img src=\"fig/perceptron_graph.png\" width=\"50%\">\n",
    "\n",
    "### パーセプトロンによる学習フロー\n",
    "\n",
    "　　　　<img src=\"fig/error.png\" width=\"50%\">\n",
    "\n",
    "### 必要な関数の定義\n",
    "\n",
    "- 総入力関数\n",
    "$$\n",
    "y = w_0 + x_1w_1 + x_2w_2\n",
    "$$\n",
    "\n",
    "- 活性化関数\n",
    "$$\n",
    "\\left\\{\n",
    "    \\begin{array}{ll}\n",
    "    h=1 & (y>=1)\\\\\n",
    "    h=0 & (y<1)\n",
    "    \\end{array}\n",
    "\\right.\n",
    "$$\n",
    "\n",
    "- 重みの更新\n",
    "$$\n",
    "\\begin{array}{ll}\n",
    "w_{new} = w_{old} +(t - h)  \\theta x_{(i)} & \\\\\n",
    "& \\theta は学習率(0〜1)\\\\\n",
    "& tは正解ラベル\n",
    "\\end{array}\n",
    "$$\n",
    "\n",
    "活性化関数の結果が正解ラベルより大きければ w を減らし、小さければ w を増やし、等しければ変更しない。\n",
    "\n",
    "### TensorFlow でよく利用する関数\n",
    "\n",
    "　　　　　<img src=\"fig/tf_func.png\" width=\"50%\">\n",
    "\n"
   ]
  },
  {
   "cell_type": "markdown",
   "metadata": {},
   "source": [
    "### 単純パーセプトロン実装\n",
    "\n",
    "- データ準備"
   ]
  },
  {
   "cell_type": "code",
   "execution_count": 87,
   "metadata": {},
   "outputs": [],
   "source": [
    "import numpy as np\n",
    "#活性化関数\n",
    "def activate(y):\n",
    "    if ( y >= 1.0):\n",
    "        return 1.0\n",
    "    else:\n",
    "        return 0.0\n",
    "\n",
    "num_data = 4\n",
    "\n",
    "#正解の入力データの準備\n",
    "#1, x1, x2\n",
    "datas =np.array([ \n",
    "        [[1.],[0.], [0.]],\n",
    "        [[1.],[0.], [1.]],\n",
    "        [[1.],[1.], [0.]],\n",
    "        [[1.],[1.], [1.]],\n",
    "    ],dtype=\"float32\")\n",
    "#正解ラベル\n",
    "labels =np.array([0.0, 0.0, 0.0, 1.0], dtype=\"float32\")"
   ]
  },
  {
   "cell_type": "markdown",
   "metadata": {},
   "source": [
    "- 計算グラフ定義→計算実行"
   ]
  },
  {
   "cell_type": "code",
   "execution_count": 104,
   "metadata": {},
   "outputs": [
    {
     "name": "stdout",
     "output_type": "stream",
     "text": [
      "counter=0,W0=[0.],W1=[0.],W2=[0.]\n",
      "counter=1,W0=[0.],W1=[0.],W2=[0.]\n",
      "counter=2,W0=[0.],W1=[0.],W2=[0.]\n",
      "counter=3,W0=[0.1],W1=[0.1],W2=[0.1]\n",
      "counter=0,W0=[0.1],W1=[0.1],W2=[0.1]\n",
      "counter=1,W0=[0.1],W1=[0.1],W2=[0.1]\n",
      "counter=2,W0=[0.1],W1=[0.1],W2=[0.1]\n",
      "counter=3,W0=[0.2],W1=[0.2],W2=[0.2]\n",
      "counter=0,W0=[0.2],W1=[0.2],W2=[0.2]\n",
      "counter=1,W0=[0.2],W1=[0.2],W2=[0.2]\n",
      "counter=2,W0=[0.2],W1=[0.2],W2=[0.2]\n",
      "counter=3,W0=[0.3],W1=[0.3],W2=[0.3]\n",
      "counter=0,W0=[0.3],W1=[0.3],W2=[0.3]\n",
      "counter=1,W0=[0.3],W1=[0.3],W2=[0.3]\n",
      "counter=2,W0=[0.3],W1=[0.3],W2=[0.3]\n",
      "counter=3,W0=[0.4],W1=[0.4],W2=[0.4]\n",
      "counter=0,W0=[0.4],W1=[0.4],W2=[0.4]\n",
      "counter=1,W0=[0.4],W1=[0.4],W2=[0.4]\n",
      "counter=2,W0=[0.4],W1=[0.4],W2=[0.4]\n",
      "counter=3,W0=[0.4],W1=[0.4],W2=[0.4]\n",
      "W0=[0.4],W1=[0.4],W2=[0.4]\n"
     ]
    }
   ],
   "source": [
    "#計算モデルの定義\n",
    "import tensorflow as tf\n",
    "\n",
    "# 学習率\n",
    "rho = tf.constant(0.1, dtype=tf.float32)\n",
    "\n",
    "# w は 0 で初期化\n",
    "w = tf.zeros([3,1],dtype=tf.float32)\n",
    "\n",
    "# 4つの答えがすべて合うまで繰り返す\n",
    "counter = 0\n",
    "while counter < num_data:\n",
    "    data = datas[counter]\n",
    "    label = labels[counter]\n",
    "    \n",
    "    # 総入力関数\n",
    "    y_i = tf.matmul(w, data, transpose_a=True)\n",
    "    # 活性化関数\n",
    "    y_l = activate(y_i)\n",
    "    # 重みの更新\n",
    "    w = w + (label - y_l) * rho * data\n",
    "    # w = tf.add(w, tf.multiply(tf.subtract(label, y_l),tf.multiply(rho, data)))\n",
    "\n",
    "    print('counter={},W0={},W1={},W2={}'.format(counter,w[0],w[1],w[2]))\n",
    "\n",
    "    if ( y_l != label ):\n",
    "        counter = 0\n",
    "    else:\n",
    "        counter += 1\n",
    "                    \n",
    "print('W0={0},W1={1},W2={2}'.format(w[0],w[1],w[2]))\n",
    "\n"
   ]
  },
  {
   "cell_type": "markdown",
   "metadata": {},
   "source": [
    "- 結果のグラフ化"
   ]
  },
  {
   "cell_type": "code",
   "execution_count": 105,
   "metadata": {},
   "outputs": [
    {
     "data": {
      "image/png": "[encoded data removed]",
      "text/plain": [
       "<Figure size 432x288 with 1 Axes>"
      ]
     },
     "metadata": {
      "needs_background": "light"
     },
     "output_type": "display_data"
    }
   ],
   "source": [
    "%matplotlib inline\n",
    "import matplotlib.pyplot as plt\n",
    "\n",
    "\n",
    "import numpy as np\n",
    "    \n",
    "w0,w1,w2 = w[0],w[1],w[2]\n",
    "plt.xlim(-0.5,1.5)\n",
    "plt.ylim(-0.5,1.5)\n",
    "plt.xlabel('x1')\n",
    "plt.ylabel('x2')\n",
    "plt.grid()\n",
    "plt.yticks([0.0,  1.0])\n",
    "plt.xticks([0.0,  1.0])\n",
    "\n",
    "x1 = np.array([ x/10.0 for x in range(-5,45) ])\n",
    "x2 = 1.0/w2-(w0/w2 + w1/w2*x1 )\n",
    "\n",
    "plt.plot(x1,x2)\n",
    "\n",
    "plt.scatter(datas[:,1],datas[:,2])\n",
    " \n",
    "\n",
    "plt.show()\n"
   ]
  },
  {
   "cell_type": "markdown",
   "metadata": {},
   "source": [
    "重みはw0=0.4 ,w1=0.4 ,w2=0.4 と収束"
   ]
  }
 ],
 "metadata": {
  "anaconda-cloud": {},
  "interpreter": {
   "hash": "412fe7fbdf0bdc6480d5508118398240b4e72445758bbe9b9ac499bc5e7031d4"
  },
  "kernelspec": {
   "display_name": "Python 3 (ipykernel)",
   "language": "python",
   "name": "python3"
  },
  "language_info": {
   "codemirror_mode": {
    "name": "ipython",
    "version": 3
   },
   "file_extension": ".py",
   "mimetype": "text/x-python",
   "name": "python",
   "nbconvert_exporter": "python",
   "pygments_lexer": "ipython3",
   "version": "3.9.7"
  },
  "latex_envs": {
   "LaTeX_envs_menu_present": true,
   "bibliofile": "biblio.bib",
   "cite_by": "apalike",
   "current_citInitial": 1,
   "eqLabelWithNumbers": true,
   "eqNumInitial": 1,
   "labels_anchors": false,
   "latex_user_defs": false,
   "report_style_numbering": false,
   "user_envs_cfg": false
  },
  "toc": {
   "colors": {
    "hover_highlight": "#DAA520",
    "running_highlight": "#FF0000",
    "selected_highlight": "#FFD700"
   },
   "moveMenuLeft": true,
   "nav_menu": {
    "height": "308px",
    "width": "251px"
   },
   "navigate_menu": true,
   "number_sections": true,
   "sideBar": true,
   "threshold": 4,
   "toc_cell": false,
   "toc_section_display": "block",
   "toc_window_display": false
  }
 },
 "nbformat": 4,
 "nbformat_minor": 4
}
